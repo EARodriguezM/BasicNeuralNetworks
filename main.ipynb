{
 "cells": [
  {
   "cell_type": "code",
   "execution_count": 1,
   "metadata": {},
   "outputs": [],
   "source": [
    "from PyQt5.QtCore import *\n",
    "from PyQt5.QtGui import *\n",
    "from PyQt5.QtWidgets import *\n",
    "\n",
    "import numpy as np\n",
    "import scipy as sc\n",
    "import random\n",
    "from matplotlib.backends.backend_qt5agg import (NavigationToolbar2QT as NavigationToolbar)\n",
    "\n",
    "import sys\n",
    "import time\n",
    "import os"
   ]
  },
  {
   "cell_type": "code",
   "execution_count": 2,
   "metadata": {},
   "outputs": [],
   "source": [
    "%run \"UI/main_window.ipynb\"\n",
    "%run \"UI/dialog_topology_config.ipynb\""
   ]
  },
  {
   "cell_type": "code",
   "execution_count": 3,
   "metadata": {},
   "outputs": [],
   "source": [
    "#%run \"BLL/widget_graphics.ipynb\"\n",
    "%run \"BLL/network_logic.ipynb\""
   ]
  },
  {
   "cell_type": "code",
   "execution_count": 4,
   "metadata": {},
   "outputs": [],
   "source": [
    "class MainWindow(QMainWindow, Ui_MainWindow):\n",
    "    def __init__(self):\n",
    "        super().__init__()\n",
    "        self.setup_ui(self, \"UI\")\n",
    "        self.setup_actions()\n",
    "        \n",
    "        \n",
    "    def setup_actions(self):\n",
    "        \n",
    "        self.action_new.triggered.connect(self.new_project)\n",
    "        \n",
    "    def setup_buttons(self):\n",
    "        self.pushButton_upload_dataset.clicked.connect(self.upload_dataset)\n",
    "        \n",
    "        \n",
    "    def new_project(self):\n",
    "        \n",
    "        try:\n",
    "            project_path, _format = QFileDialog.getSaveFileName(self, 'New project', '/home/earodriguezm/', \"NeuNet (.neunet)\")\n",
    "        except:\n",
    "            QMessageBox.about(self, \"Error\", \"Error en la creación del proyecto\")\n",
    "            return False\n",
    "        \n",
    "        self.file_manager = FileManager(project_path)\n",
    "        \n",
    "        self.setWindowTitle(self.file_manager.project_name)        \n",
    "        \n",
    "        self.create_q_objects(self)\n",
    "        self.setup_buttons()\n",
    "        \n",
    "        \n",
    "    def upload_dataset(self):\n",
    "\n",
    "        try:\n",
    "            dataset_path, _format = QFileDialog.getOpenFileName(self, 'Upload dataset file', self.file_manager.project_path, \"CSV (*.csv) ;; TSV (*.tsv)\")\n",
    "        except:\n",
    "            QMessageBox.about(self, \"Error\", \"Error en la creación del proyecto\")\n",
    "            return False\n",
    "        \n",
    "        if _format == \"CSV (*.csv)\":\n",
    "            delimiter_format = ','           \n",
    "        if _format == \"TSV (*.tsv)\":\n",
    "            delimiter_format = '\\t'\n",
    "        \n",
    "        self.file_manager.dataset_path = dataset_path\n",
    "        self.file_manager.delimiter_format = delimiter_format\n",
    "        self.show_dataset()\n",
    "        self.file_manager.count_in_out()\n",
    "        self.show_nn_topology()\n",
    "        \n",
    "    def show_dataset(self):\n",
    "        _data = self.file_manager.import_dataset(self.file_manager.dataset_path)\n",
    "        \n",
    "        _x, _y = _data.shape\n",
    "        self.tableWidget_dataset.setRowCount(_x)\n",
    "        self.tableWidget_dataset.setColumnCount(_y)\n",
    "        \n",
    "        for i_x in range(0, _x):\n",
    "            for i_y in range(0, _y):\n",
    "                self.tableWidget_dataset.setItem(i_x, i_y, QTableWidgetItem(_data[i_x, i_y]))\n",
    "                \n",
    "    def show_nn_topology(self):\n",
    "        self.network = DrawNN( [self.file_manager.n_X, self.file_manager.n_Y], self.widget_topology_diagram)\n",
    "        self.network.draw()\n",
    "        \n",
    "        self.widget_topology_diagram.addWidget(self.netrwork)\n",
    "        "
   ]
  },
  {
   "cell_type": "code",
   "execution_count": 5,
   "metadata": {},
   "outputs": [
    {
     "data": {
      "image/png": "[encoded data removed]",
      "text/plain": [
       "<Figure size 432x288 with 1 Axes>"
      ]
     },
     "metadata": {
      "needs_background": "light"
     },
     "output_type": "display_data"
    },
    {
     "ename": "AttributeError",
     "evalue": "'QWidget' object has no attribute 'addWidget'",
     "output_type": "error",
     "traceback": [
      "\u001b[0;31m---------------------------------------------------------------------------\u001b[0m",
      "\u001b[0;31mAttributeError\u001b[0m                            Traceback (most recent call last)",
      "\u001b[0;32m<ipython-input-4-f4c4a034df22>\u001b[0m in \u001b[0;36mupload_dataset\u001b[0;34m(self)\u001b[0m\n\u001b[1;32m     47\u001b[0m         \u001b[0mself\u001b[0m\u001b[0;34m.\u001b[0m\u001b[0mshow_dataset\u001b[0m\u001b[0;34m(\u001b[0m\u001b[0;34m)\u001b[0m\u001b[0;34m\u001b[0m\u001b[0;34m\u001b[0m\u001b[0m\n\u001b[1;32m     48\u001b[0m         \u001b[0mself\u001b[0m\u001b[0;34m.\u001b[0m\u001b[0mfile_manager\u001b[0m\u001b[0;34m.\u001b[0m\u001b[0mcount_in_out\u001b[0m\u001b[0;34m(\u001b[0m\u001b[0;34m)\u001b[0m\u001b[0;34m\u001b[0m\u001b[0;34m\u001b[0m\u001b[0m\n\u001b[0;32m---> 49\u001b[0;31m         \u001b[0mself\u001b[0m\u001b[0;34m.\u001b[0m\u001b[0mshow_nn_topology\u001b[0m\u001b[0;34m(\u001b[0m\u001b[0;34m)\u001b[0m\u001b[0;34m\u001b[0m\u001b[0;34m\u001b[0m\u001b[0m\n\u001b[0m\u001b[1;32m     50\u001b[0m \u001b[0;34m\u001b[0m\u001b[0m\n\u001b[1;32m     51\u001b[0m     \u001b[0;32mdef\u001b[0m \u001b[0mshow_dataset\u001b[0m\u001b[0;34m(\u001b[0m\u001b[0mself\u001b[0m\u001b[0;34m)\u001b[0m\u001b[0;34m:\u001b[0m\u001b[0;34m\u001b[0m\u001b[0;34m\u001b[0m\u001b[0m\n",
      "\u001b[0;32m<ipython-input-4-f4c4a034df22>\u001b[0m in \u001b[0;36mshow_nn_topology\u001b[0;34m(self)\u001b[0m\n\u001b[1;32m     64\u001b[0m         \u001b[0mself\u001b[0m\u001b[0;34m.\u001b[0m\u001b[0mnetwork\u001b[0m\u001b[0;34m.\u001b[0m\u001b[0mdraw\u001b[0m\u001b[0;34m(\u001b[0m\u001b[0;34m)\u001b[0m\u001b[0;34m\u001b[0m\u001b[0;34m\u001b[0m\u001b[0m\n\u001b[1;32m     65\u001b[0m \u001b[0;34m\u001b[0m\u001b[0m\n\u001b[0;32m---> 66\u001b[0;31m         \u001b[0mself\u001b[0m\u001b[0;34m.\u001b[0m\u001b[0mwidget_topology_diagram\u001b[0m\u001b[0;34m.\u001b[0m\u001b[0maddWidget\u001b[0m\u001b[0;34m(\u001b[0m\u001b[0mself\u001b[0m\u001b[0;34m.\u001b[0m\u001b[0mnetrwork\u001b[0m\u001b[0;34m)\u001b[0m\u001b[0;34m\u001b[0m\u001b[0;34m\u001b[0m\u001b[0m\n\u001b[0m\u001b[1;32m     67\u001b[0m \u001b[0;34m\u001b[0m\u001b[0m\n",
      "\u001b[0;31mAttributeError\u001b[0m: 'QWidget' object has no attribute 'addWidget'"
     ]
    },
    {
     "data": {
      "text/plain": [
       "0"
      ]
     },
     "execution_count": 5,
     "metadata": {},
     "output_type": "execute_result"
    }
   ],
   "source": [
    "app = QApplication(sys.argv)\n",
    "window = MainWindow()\n",
    "window.show()\n",
    "app.exec_()"
   ]
  },
  {
   "cell_type": "code",
   "execution_count": 6,
   "metadata": {},
   "outputs": [
    {
     "data": {
      "text/plain": [
       "\u001b[0;31mDocstring:\u001b[0m getSaveFileName(parent: QWidget = None, caption: str = '', directory: str = '', filter: str = '', initialFilter: str = '', options: Union[QFileDialog.Options, QFileDialog.Option] = 0) -> Tuple[str, str]\n",
       "\u001b[0;31mType:\u001b[0m      builtin_function_or_method\n"
      ]
     },
     "metadata": {},
     "output_type": "display_data"
    }
   ],
   "source": [
    "QFileDialog.getSaveFileName?"
   ]
  }
 ],
 "metadata": {
  "kernelspec": {
   "display_name": "Python 3",
   "language": "python",
   "name": "python3"
  },
  "language_info": {
   "codemirror_mode": {
    "name": "ipython",
    "version": 3
   },
   "file_extension": ".py",
   "mimetype": "text/x-python",
   "name": "python",
   "nbconvert_exporter": "python",
   "pygments_lexer": "ipython3",
   "version": "3.8.6"
  }
 },
 "nbformat": 4,
 "nbformat_minor": 4
}
