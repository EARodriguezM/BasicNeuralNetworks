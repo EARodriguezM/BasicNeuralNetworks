{
 "cells": [
  {
   "cell_type": "code",
   "execution_count": 2,
   "metadata": {},
   "outputs": [],
   "source": [
    "from PyQt5.QtCore import *\n",
    "from PyQt5.QtGui import *\n",
    "from PyQt5.QtWidgets import *\n",
    "\n",
    "from matplotlib.backends.backend_qt5agg import (NavigationToolbar2QT as NavigationToolbar)\n",
    "\n",
    "import sys\n",
    "import time\n",
    "import os\n",
    "import numpy as np\n",
    "import random"
   ]
  },
  {
   "cell_type": "code",
   "execution_count": 3,
   "metadata": {},
   "outputs": [],
   "source": [
    "%run \"UI/main_window.ipynb\""
   ]
  },
  {
   "cell_type": "code",
   "execution_count": 4,
   "metadata": {},
   "outputs": [],
   "source": [
    "%run \"UI/dialog_topology_config.ipynb\""
   ]
  },
  {
   "cell_type": "code",
   "execution_count": null,
   "metadata": {},
   "outputs": [],
   "source": [
    "%run"
   ]
  },
  {
   "cell_type": "code",
   "execution_count": 5,
   "metadata": {},
   "outputs": [],
   "source": [
    "class MainWindow(QMainWindow, Ui_MainWindow):\n",
    "    def __init__(self):\n",
    "        super().__init__()\n",
    "        self.setup_ui(self, \"UI\")\n",
    "        self.setup_actions()\n",
    "        \n",
    "    def setup_actions(self):\n",
    "        self.action_new.triggered.connect(self.new_project)\n",
    "        \n",
    "    \n",
    "    def new_project(self):\n",
    "        try:\n",
    "            global project_path\n",
    "            project_path, _format = QFileDialog.getSaveFileName(self, 'New project', '/home/earodriguezm/', \"NeuNet (.neunet)\")\n",
    "        except:\n",
    "            print(\"Error in project creation\")\n",
    "            return 0\n",
    "        global project_name\n",
    "        project_name = project_path.split(\"/\")[-1]\n",
    "        self.setWindowTitle(project_name)\n",
    "        project_path = project_path.replace(project_name, \"\")\n",
    "        print(project_path)\n",
    "        self.create_q_objects(self)\n",
    "        self.setup_buttons()\n",
    "        \n",
    "    def upload_datasets(self):\n",
    "        print(project_path)\n",
    "        try:\n",
    "            file_path, _ = QFileDialog.getOpenFileName(self, 'Upload datasets file', project_path, \"CSV (*.csv) ;; TSV (*.tsv)\")\n",
    "        except:\n",
    "            return print(\"Error al subir archivo\")\n",
    "    \n",
    "    def setup_buttons(self):\n",
    "        self.pushButton_upload_datasets.clicked.connect(self.upload_datasets)\n",
    "        \n",
    "        "
   ]
  },
  {
   "cell_type": "code",
   "execution_count": null,
   "metadata": {},
   "outputs": [],
   "source": [
    "app = QApplication(sys.argv)\n",
    "window = MainWindow()\n",
    "window.show()\n",
    "app.exec_()"
   ]
  },
  {
   "cell_type": "code",
   "execution_count": null,
   "metadata": {},
   "outputs": [],
   "source": [
    "QFileDialog.getSaveFileName?"
   ]
  }
 ],
 "metadata": {
  "kernelspec": {
   "display_name": "Python 3",
   "language": "python",
   "name": "python3"
  },
  "language_info": {
   "codemirror_mode": {
    "name": "ipython",
    "version": 3
   },
   "file_extension": ".py",
   "mimetype": "text/x-python",
   "name": "python",
   "nbconvert_exporter": "python",
   "pygments_lexer": "ipython3",
   "version": "3.8.6"
  }
 },
 "nbformat": 4,
 "nbformat_minor": 4
}
