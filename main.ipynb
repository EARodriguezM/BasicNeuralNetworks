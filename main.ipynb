{
 "cells": [
  {
   "cell_type": "code",
   "execution_count": 1,
   "metadata": {},
   "outputs": [],
   "source": [
    "from PyQt5.QtCore import *\n",
    "from PyQt5.QtGui import *\n",
    "from PyQt5.QtWidgets import *\n",
    "\n",
    "import numpy as np\n",
    "import scipy as sc\n",
    "import random\n",
    "from matplotlib.backends.backend_qt5agg import (NavigationToolbar2QT as NavigationToolbar)\n",
    "\n",
    "import sys\n",
    "import time\n",
    "import os"
   ]
  },
  {
   "cell_type": "code",
   "execution_count": 2,
   "metadata": {},
   "outputs": [],
   "source": [
    "%run \"UI/main_window.ipynb\"\n",
    "%run \"UI/dialog_topology_config.ipynb\""
   ]
  },
  {
   "cell_type": "code",
   "execution_count": 3,
   "metadata": {},
   "outputs": [],
   "source": [
    "#%run \"BLL/widget_graphics.ipynb\"\n",
    "#%run \"BLL/network_logic.ipynb\""
   ]
  },
  {
   "cell_type": "code",
   "execution_count": 4,
   "metadata": {},
   "outputs": [],
   "source": [
    "class MainWindow(QMainWindow, Ui_MainWindow):\n",
    "    def __init__(self):\n",
    "        super().__init__()\n",
    "        self.setup_ui(self, \"UI\")\n",
    "        self.setup_actions()\n",
    "        \n",
    "    def setup_actions(self):\n",
    "        \n",
    "        self.action_new.triggered.connect(self.new_project)\n",
    "        \n",
    "    \n",
    "    def new_project(self):\n",
    "        \n",
    "        try:\n",
    "            project_path, _format = QFileDialog.getSaveFileName(self, 'New project', '/home/earodriguezm/', \"NeuNet (.neunet)\")\n",
    "        except:\n",
    "            QMessageBox.about(self, \"Error\", \"Error en la creación del proyecto\")\n",
    "            return False\n",
    "        \n",
    "        self.project_name = project_path.split(\"/\")[-1]\n",
    "        self.project_path = project_path.replace(self.project_name, \"\")\n",
    "        \n",
    "        self.setWindowTitle(self.project_name)        \n",
    "        \n",
    "        self.create_q_objects(self)\n",
    "        self.setup_buttons()\n",
    "        \n",
    "    def upload_dataset(self):\n",
    "\n",
    "        try:\n",
    "            self.dataset_path, _ = QFileDialog.getOpenFileName(self, 'Upload dataset file', self.project_path, \"CSV (*.csv) ;; TSV (*.tsv)\")\n",
    "        except:\n",
    "            QMessageBox.about(self, \"Error\", \"Error en la creación del proyecto\")\n",
    "            return False\n",
    "        \n",
    "        \n",
    "        \n",
    "            \n",
    "    def setup_buttons(self):\n",
    "        self.pushButton_upload_dataset.clicked.connect(self.upload_dataset)\n",
    "        \n",
    "        "
   ]
  },
  {
   "cell_type": "code",
   "execution_count": 5,
   "metadata": {},
   "outputs": [
    {
     "data": {
      "text/plain": [
       "0"
      ]
     },
     "execution_count": 5,
     "metadata": {},
     "output_type": "execute_result"
    }
   ],
   "source": [
    "app = QApplication(sys.argv)\n",
    "window = MainWindow()\n",
    "window.show()\n",
    "app.exec_()"
   ]
  },
  {
   "cell_type": "code",
   "execution_count": 6,
   "metadata": {},
   "outputs": [
    {
     "data": {
      "text/plain": [
       "\u001b[0;31mDocstring:\u001b[0m getSaveFileName(parent: QWidget = None, caption: str = '', directory: str = '', filter: str = '', initialFilter: str = '', options: Union[QFileDialog.Options, QFileDialog.Option] = 0) -> Tuple[str, str]\n",
       "\u001b[0;31mType:\u001b[0m      builtin_function_or_method\n"
      ]
     },
     "metadata": {},
     "output_type": "display_data"
    }
   ],
   "source": [
    "QFileDialog.getSaveFileName?"
   ]
  }
 ],
 "metadata": {
  "kernelspec": {
   "display_name": "Python 3",
   "language": "python",
   "name": "python3"
  },
  "language_info": {
   "codemirror_mode": {
    "name": "ipython",
    "version": 3
   },
   "file_extension": ".py",
   "mimetype": "text/x-python",
   "name": "python",
   "nbconvert_exporter": "python",
   "pygments_lexer": "ipython3",
   "version": "3.8.6"
  }
 },
 "nbformat": 4,
 "nbformat_minor": 4
}
