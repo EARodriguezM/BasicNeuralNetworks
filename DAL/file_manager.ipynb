{
 "cells": [
  {
   "cell_type": "code",
   "execution_count": null,
   "metadata": {},
   "outputs": [],
   "source": []
  },
  {
   "cell_type": "markdown",
   "metadata": {},
   "source": [
    "## File Manager Class"
   ]
  },
  {
   "cell_type": "code",
   "execution_count": 3,
   "metadata": {},
   "outputs": [],
   "source": [
    "class FileManager():\n",
    "    \n",
    "    def __init__(self, project_path):\n",
    "        \n",
    "        self.project_name = project_path.split(\"/\")[-1]\n",
    "        self.project_path = project_path.replace(self.project_name, \"\")\n",
    "        self.dataset_path = \"\"\n",
    "        self.delimiter_format = \"\"\n",
    "        \n",
    "        \n",
    "    def count_in_out(self):\n",
    "        \n",
    "        first_row = np.loadtxt(self.dataset_path, delimiter = self.delimiter_format, dtype=str, max_rows=1)\n",
    "        \n",
    "        n_XY = [0,0]\n",
    "        \n",
    "        for l, _data in enumerate(first_row):\n",
    "            if \"X\" in str.upper(first_row[l]):\n",
    "                n_XY[0] += 1 \n",
    "            if \"Y\" in str.upper(first_row[l]):\n",
    "                n_XY[1] += 1 \n",
    "                \n",
    "        return n_XY\n",
    "    \n",
    "    \n",
    "    # Import data\n",
    "    def import_dataset(self, cols = []):\n",
    "        data = np.loadtxt(self.dataset_path, delimiter=self.delimiter_format, skiprows=1, usecols=cols, dtype=float)\n",
    "        return data\n",
    "    \n",
    "    def import_file(self, file_name = \"\"):\n",
    "        data = np.loadtxt(file_name, delimiter=self.delimiter_format, usecols=None, dtype=str)\n",
    "        return data\n",
    "    "
   ]
  }
 ],
 "metadata": {
  "kernelspec": {
   "display_name": "Python 3",
   "language": "python",
   "name": "python3"
  },
  "language_info": {
   "codemirror_mode": {
    "name": "ipython",
    "version": 3
   },
   "file_extension": ".py",
   "mimetype": "text/x-python",
   "name": "python",
   "nbconvert_exporter": "python",
   "pygments_lexer": "ipython3",
   "version": "3.8.6"
  }
 },
 "nbformat": 4,
 "nbformat_minor": 4
}
