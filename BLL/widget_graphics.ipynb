{
 "cells": [
  {
   "cell_type": "code",
   "execution_count": null,
   "metadata": {},
   "outputs": [],
   "source": [
    "class MyMplCanvas(FigureCanvas):\n",
    "\n",
    "    def __init__(self, parent=None):\n",
    "        fig = Figure()\n",
    "        self.axes = fig.add_subplot(111)\n",
    "\n",
    "        self.compute_initial_figure()\n",
    "\n",
    "        FigureCanvas.__init__(self, fig)\n",
    "        self.setParent(parent)\n",
    "\n",
    "        FigureCanvas.setSizePolicy(self,\n",
    "                                   QtWidgets.QSizePolicy.Expanding,\n",
    "                                   QtWidgets.QSizePolicy.Expanding)\n",
    "        FigureCanvas.updateGeometry(self)\n",
    "\n",
    "    def compute_initial_figure(self):\n",
    "        pass"
   ]
  },
  {
   "cell_type": "code",
   "execution_count": null,
   "metadata": {},
   "outputs": [],
   "source": [
    "class MplWidget(QWidget):\n",
    "    def __init__(self, parent = None):\n",
    "        \n",
    "        QWidget.__init__(self, parent)\n",
    "        \n",
    "        self.canvas = FigureCanvas(Figure())\n",
    "        \n",
    "        vertical_layout = QVBoxLayout()\n",
    "        vertical_layout.addWidget(self.canvas)\n",
    "        \n",
    "        #Three integers (nrows, ncols, index)\n",
    "        self.canvas.axes = self.canvas.figure.add_subplot(111)\n",
    "        self.setLayout(vertical_layout)"
   ]
  }
 ],
 "metadata": {
  "kernelspec": {
   "display_name": "Python 3",
   "language": "python",
   "name": "python3"
  },
  "language_info": {
   "codemirror_mode": {
    "name": "ipython",
    "version": 3
   },
   "file_extension": ".py",
   "mimetype": "text/x-python",
   "name": "python",
   "nbconvert_exporter": "python",
   "pygments_lexer": "ipython3",
   "version": "3.9.3"
  }
 },
 "nbformat": 4,
 "nbformat_minor": 4
}
