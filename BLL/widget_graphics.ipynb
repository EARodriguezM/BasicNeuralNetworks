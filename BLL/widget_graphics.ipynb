{
 "cells": [
  {
   "cell_type": "code",
   "execution_count": null,
   "metadata": {},
   "outputs": [],
   "source": [
    "class MyMplCanvas(FigureCanvas):\n",
    "    \"\"\"Ultimately, this is a QWidget (as well as a FigureCanvasAgg, etc.).\"\"\"\n",
    "\n",
    "    def __init__(self, parent=None, width=5, height=4, dpi=100):\n",
    "        fig = Figure(figsize=(width, height), dpi=dpi)\n",
    "        self.axes = fig.add_subplot(111)\n",
    "\n",
    "        self.compute_initial_figure()\n",
    "\n",
    "        FigureCanvas.__init__(self, fig)\n",
    "        self.setParent(parent)\n",
    "\n",
    "        FigureCanvas.setSizePolicy(self,\n",
    "                                   QtWidgets.QSizePolicy.Expanding,\n",
    "                                   QtWidgets.QSizePolicy.Expanding)\n",
    "        FigureCanvas.updateGeometry(self)\n",
    "\n",
    "    def compute_initial_figure(self):\n",
    "        pass"
   ]
  }
 ],
 "metadata": {
  "kernelspec": {
   "display_name": "Python 3",
   "language": "python",
   "name": "python3"
  },
  "language_info": {
   "codemirror_mode": {
    "name": "ipython",
    "version": 3
   },
   "file_extension": ".py",
   "mimetype": "text/x-python",
   "name": "python",
   "nbconvert_exporter": "python",
   "pygments_lexer": "ipython3",
   "version": "3.8.6"
  }
 },
 "nbformat": 4,
 "nbformat_minor": 4
}
