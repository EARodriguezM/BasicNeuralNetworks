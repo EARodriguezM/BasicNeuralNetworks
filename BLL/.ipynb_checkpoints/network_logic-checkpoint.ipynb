{
 "cells": [
  {
   "cell_type": "code",
   "execution_count": 1,
   "metadata": {},
   "outputs": [],
   "source": [
    "# Import Libraries\n",
    "import numpy as np\n",
    "import scipy as sc\n",
    "import matplotlib.pyplot as plt\n",
    "import time\n",
    "from IPython.display import clear_output"
   ]
  },
  {
   "cell_type": "code",
   "execution_count": null,
   "metadata": {},
   "outputs": [],
   "source": [
    "# Set values of the network\n",
    "c = input()\n",
    "learning_ratio = 0.5 if len(c) == 0 else float(c)\n",
    "iterations = 1000 if len(c) == 0 else float(c)\n",
    "err_max = 0.1 if len(c) == 0 else float(c)\n",
    "res = 50 if len(c) == 0 else int(c)\n",
    "interval_show = 2 if len(c) == 0 else int(c)"
   ]
  },
  {
   "cell_type": "code",
   "execution_count": null,
   "metadata": {},
   "outputs": [],
   "source": [
    "# Set file path of the data\n",
    "X_file_name\n",
    "W_file_name\n",
    "T_file_name"
   ]
  },
  {
   "cell_type": "code",
   "execution_count": null,
   "metadata": {},
   "outputs": [],
   "source": [
    "# Import data\n",
    "\n",
    "def import_file(file_name,cols):\n",
    "    data = np.loadtxt(file_name, delimiter=',', skiprows=1, usecols=cols, dtype=float)\n",
    "    return data\n",
    "    \n",
    "X = import_file(X_file_name, [0,1])\n",
    "Y = import_file(X_file_name, [2])\n",
    "W = import_file(W_file_name, [0,1])\n",
    "T = import_file(T_file_name, [0])\n",
    "\n",
    "# Fix matrix and vector index \n",
    "Y = Y[:, np.newaxis]\n",
    "W = W[:, np.newaxis]"
   ]
  },
  {
   "cell_type": "code",
   "execution_count": null,
   "metadata": {},
   "outputs": [],
   "source": [
    "# Neural layer builder\n",
    "\n",
    "class neural_layer():\n",
    "    # The class is initialized receiving the parameters:\n",
    "    # n_conn: connections number\n",
    "    # n_neur: neurons number\n",
    "    # act_f: activation function\n",
    "    def __init__ (self, n_conn, n_neur, act_f):\n",
    "        \n",
    "        # assign init parameters to property of instance\n",
    "        self.act_f = act_f\n",
    "        self.W = W\n",
    "        self.T = T"
   ]
  },
  {
   "cell_type": "code",
   "execution_count": null,
   "metadata": {},
   "outputs": [],
   "source": [
    "# Define activation functions availables\n",
    "\n",
    "step = lambda x: x>=0"
   ]
  },
  {
   "cell_type": "code",
   "execution_count": null,
   "metadata": {},
   "outputs": [],
   "source": [
    "# Design layers of the neural network\n",
    "\n",
    "def create_nn(topology, act_f):\n",
    "    \n",
    "    # Vector containing the layers that make up the network\n",
    "    nn = []\n",
    "    \n",
    "    # Review the neural network topology and create the layers\n",
    "    for l, layer in enumerate(topology[:-1]):\n",
    "        \n",
    "        nn.append(neural_layer(topology[l], topology[l+1], act_f))\n",
    "        \n",
    "    return nn"
   ]
  },
  {
   "cell_type": "code",
   "execution_count": null,
   "metadata": {},
   "outputs": [],
   "source": [
    "# Define network topology\n",
    "\n",
    "topology = [len(X[0]), len(Y[0])]"
   ]
  },
  {
   "cell_type": "code",
   "execution_count": null,
   "metadata": {},
   "outputs": [],
   "source": [
    "# Define the error function and linear error function\n",
    "\n",
    "cost_f = (lambda Yp, Yr: np.mean((Yp - Yr) ** 2),\n",
    "          lambda Yp, Yr: (Yp - Yr)\n",
    "         )"
   ]
  },
  {
   "cell_type": "code",
   "execution_count": null,
   "metadata": {},
   "outputs": [],
   "source": [
    "# Define the network training\n",
    "\n",
    "def train(neural_net, X, Y, cost_f, learning_ratio=0.5, train=True):\n",
    "    \n",
    "    # Vector containing the layer weighted sum and its activation value\n",
    "    out = [(None, X)]\n",
    "    \n",
    "    # FORWARD PASS\n",
    "    for l, layer in enumerate(neural_net):\n",
    "        \n",
    "        # Weighted sum of layer[l]\n",
    "        z = out[-1][1] @ neural_net[l].W + neural_net[l].T\n",
    "\n",
    "        # Activation value of layer[l]\n",
    "        a = neural_net[l].act_f(z)\n",
    "        \n",
    "        # Save botth values of layer[l] to vector\n",
    "        out.append((z,a))\n",
    "        \n",
    "    if train:\n",
    "        \n",
    "        # BACKWARD PASS\n",
    "        # Vector containing linear error of layer[l]\n",
    "        err_lineal = []\n",
    "        \n",
    "        for l in reversed(range(0, len(neural_net))):\n",
    "            \n",
    "            z = out[l+1][0]\n",
    "            a = out[l+1][1]\n",
    "            \n",
    "            err_lineal.insert(0, cost_f[1](a, Y))\n",
    "                        \n",
    "            # Update weights and threshold\n",
    "            neural_net[l].T = neural_net[l].T - np.mean(err_lineal[0], axis=0, keepdims=True) * learning_ratio\n",
    "            neural_net[l].W = neural_net[l].W - out[l][1].T @ err_lineal[0] * learning_ratio\n",
    "    return out[-1][1]"
   ]
  },
  {
   "cell_type": "code",
   "execution_count": null,
   "metadata": {},
   "outputs": [],
   "source": [
    "# Define plot interval\n",
    "\n",
    "def interval_gen(_x_):\n",
    "\n",
    "    # X axis\n",
    "    x00=(_x_[:,0][_x_[:,0]!=0].min())\n",
    "    x01=(_x_[:,0][_x_[:,0]!=0].max())\n",
    "    global x0_interval\n",
    "    x0_interval = [x00-1, x01+1]\n",
    "\n",
    "    # Y axis\n",
    "    y00=(_x_[:,1][_x_[:,1]!=0].min())\n",
    "    y01=(_x_[:,1][_x_[:,1]!=0].max())\n",
    "    global y0_interval\n",
    "    y0_interval = [y00-1, y01+1]\n"
   ]
  },
  {
   "cell_type": "code",
   "execution_count": null,
   "metadata": {},
   "outputs": [],
   "source": [
    "# Define graphics generator\n",
    "\n",
    "def graphic_gen(x_parameter, y_parameter, neural_n):\n",
    "\n",
    "    _x0 = np.linspace(x0_interval[0], x0_interval[1], res)\n",
    "    _y0 = np.linspace(y0_interval[0], y0_interval[1], res)\n",
    "    \n",
    "    # Drawing mesh\n",
    "    _Y = np.zeros((res, res))\n",
    "\n",
    "    for i0, x0 in enumerate(_x0):\n",
    "        for i1, y0 in enumerate(_y0):\n",
    "            _Y[i0, i1] = train(neural_n, np.array([[x0, y0]]), y_parameter, cost_f, train=False)[0][0]\n",
    "\n",
    "    plt.pcolormesh(_x0, _y0, _Y, cmap=\"coolwarm\")\n",
    "    plt.axis(\"equal\")\n",
    "\n",
    "    plt.scatter(x_parameter[y_parameter[:, 0] == 0, 0], x_parameter[y_parameter[:, 0] == 0, 1], c=\"skyblue\")\n",
    "    plt.scatter(x_parameter[y_parameter[:, 0] == 1, 0], x_parameter[y_parameter[:, 0] == 1, 1], c=\"salmon\")\n",
    "    clear_output(wait=True)\n",
    "    plt.show()"
   ]
  },
  {
   "cell_type": "code",
   "execution_count": null,
   "metadata": {},
   "outputs": [],
   "source": [
    "# Define execute funtion for the network\n",
    "\n",
    "def execute(x_parameter, y_parameter, neural_n):\n",
    "\n",
    "    # Vector containing iterations error\n",
    "    global err_iterations\n",
    "    err_iterations = []\n",
    "\n",
    "    interval_gen(x_parameter)\n",
    "\n",
    "    for i in range(iterations):\n",
    "\n",
    "        # Train the network\n",
    "        Y_iteration = train(neural_n, x_parameter, y_parameter, cost_f, learning_ratio)\n",
    "\n",
    "        if i % interval_show == 0:        \n",
    "\n",
    "        # Save iteration error\n",
    "        err_iterations.append(cost_f[0](Y_iteration, y_parameter))\n",
    "\n",
    "\n",
    "        # draw graphics\n",
    "        graphic_gen(x_parameter,y_parameter, neural_n)\n",
    "\n",
    "\n",
    "        plt.plot(range(len(err_iterations)), err_iterations)\n",
    "        plt.show()\n",
    "        time.sleep(1)\n",
    "\n",
    "        if err_iterations[-1] <= err_max:\n",
    "            return neural_n"
   ]
  },
  {
   "cell_type": "code",
   "execution_count": null,
   "metadata": {},
   "outputs": [],
   "source": [
    "\n",
    "def solve_unknow_dataset():\n",
    "    if 'neural_n1' in locals():\n",
    "\n",
    "        # Nombre del archivo con los datos de entrada, es llamado datasets\n",
    "        X_new = fn\n",
    "\n",
    "        X_new = import_file(X_new, [0,1])\n",
    "\n",
    "        Y_new = train(neural_n1, X_new, Y, cost_f, train=False)\n",
    "\n",
    "        interval_gen(X_new)\n",
    "\n",
    "        graphic_gen(X_new, Y_new, neural_n1)\n",
    "\n",
    "    else:\n",
    "        print('No hay red entrenada para predecir algun patron desconocido')"
   ]
  },
  {
   "cell_type": "code",
   "execution_count": null,
   "metadata": {},
   "outputs": [],
   "source": []
  },
  {
   "cell_type": "code",
   "execution_count": null,
   "metadata": {},
   "outputs": [],
   "source": []
  }
 ],
 "metadata": {
  "kernelspec": {
   "display_name": "Python 3",
   "language": "python",
   "name": "python3"
  },
  "language_info": {
   "codemirror_mode": {
    "name": "ipython",
    "version": 3
   },
   "file_extension": ".py",
   "mimetype": "text/x-python",
   "name": "python",
   "nbconvert_exporter": "python",
   "pygments_lexer": "ipython3",
   "version": "3.8.6"
  }
 },
 "nbformat": 4,
 "nbformat_minor": 4
}
