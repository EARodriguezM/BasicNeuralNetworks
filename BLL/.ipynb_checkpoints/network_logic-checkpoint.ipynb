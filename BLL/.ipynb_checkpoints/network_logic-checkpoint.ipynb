{
 "cells": [
  {
   "cell_type": "code",
   "execution_count": 1,
   "metadata": {},
   "outputs": [],
   "source": [
    "# Import Libraries\n",
    "# from PyQt5.QtCore import *\n",
    "# from PyQt5.QtGui import *\n",
    "# from PyQt5.QtWidgets import *\n",
    "\n",
    "import numpy as np\n",
    "import scipy as sc\n",
    "\n",
    "import matplotlib.pyplot as plt\n",
    "from math import cos, sin, atan\n",
    "\n",
    "from matplotlib.backends.backend_qt5agg import FigureCanvasQTAgg as FigureCanvas\n",
    "from matplotlib.figure import Figure\n",
    "\n",
    "import time\n",
    "from IPython.display import clear_output"
   ]
  },
  {
   "cell_type": "code",
   "execution_count": 2,
   "metadata": {
    "jupyter": {
     "source_hidden": true
    }
   },
   "outputs": [],
   "source": [
    "class RedConfig():\n",
    "    def __init__(self, learning_ratio = 0.5, iteration_limit = 1000, err_max = 0.1, graphic_resolution = 50, interval_show = 2):\n",
    "        self.__learning_ratio = learning_ratio\n",
    "        self.__iteration_limit = iteration_limit\n",
    "        self.__err_max = err_max\n",
    "        self.__graphic_resolution = graphic_resolution\n",
    "        self.__interval_show = interval_show\n",
    "        \n",
    "    def get_learning_ratio(self):\n",
    "        return self.__learning_ratio\n",
    "    \n",
    "    def get_iteration_limit(self):\n",
    "        return self.__iteration_limit\n",
    "    \n",
    "    def get_err_max(self):\n",
    "        return self.__err_max\n",
    "    \n",
    "    def get_graphic_resolution(self):\n",
    "        return self.__graphic_resolution\n",
    "    \n",
    "    def get_interval_show(self):\n",
    "        return self.__interval_show\n",
    "    \n",
    "    \n",
    "    \n",
    "    def set_learning_ratio(self, _learning_ratio):\n",
    "        try:\n",
    "            self.__learning_ratio = _learning_ratio\n",
    "        except:\n",
    "            return False\n",
    "        return True\n",
    "    \n",
    "    def set_iteration_limit(self, _iteration_limit):\n",
    "        try:\n",
    "            self.__iteration_limit = _iteration_limit\n",
    "        except:\n",
    "            return False\n",
    "        return True\n",
    "        \n",
    "    def set_err_max(self, _err_max):\n",
    "        try:\n",
    "            self.__err_max = _err_max\n",
    "        except:\n",
    "            return False\n",
    "        return True\n",
    "    \n",
    "    def set_graphic_resolution(self, _graphic_resolution):\n",
    "        try:\n",
    "            self.__graphic_resolution = _graphic_resolution\n",
    "        except:\n",
    "            return False\n",
    "        return True\n",
    "    \n",
    "    def set_interval_show(self, _interval_show):\n",
    "        try:\n",
    "            self.__interval_show = _interval_show\n",
    "        except:\n",
    "            return False\n",
    "        return True"
   ]
  },
  {
   "cell_type": "markdown",
   "metadata": {},
   "source": [
    "## File Manager Class"
   ]
  },
  {
   "cell_type": "code",
   "execution_count": 3,
   "metadata": {},
   "outputs": [],
   "source": [
    "class FileManager():\n",
    "    \n",
    "    def __init__(self, project_path):\n",
    "        \n",
    "        self.project_name = project_path.split(\"/\")[-1]\n",
    "        self.project_path = project_path.replace(self.project_name, \"\")\n",
    "        self.dataset_path = \"\"\n",
    "        self.delimiter_format = \"\"\n",
    "        \n",
    "        \n",
    "    def count_in_out(self):\n",
    "        \n",
    "        first_row = np.loadtxt(self.dataset_path, delimiter = self.delimiter_format, dtype=str, max_rows=1)\n",
    "        \n",
    "        self.n_X = 0\n",
    "        self.n_Y = 0\n",
    "        \n",
    "        for l, _data in enumerate(first_row):\n",
    "            if \"X\" in str.upper(first_row[l]):\n",
    "                self.n_X += 1 \n",
    "            if \"Y\" in str.upper(first_row[l]):\n",
    "                self.n_Y += 1 \n",
    "    \n",
    "    \n",
    "    # Import data\n",
    "    def import_dataset(self, cols = 0):\n",
    "        data = np.loadtxt(self.dataset_path, delimiter=self.delimiter_format, skiprows=1, usecols=cols, dtype=float)\n",
    "        return data\n",
    "    \n",
    "    def import_dataset(self, file_name = \"\"):\n",
    "        data = np.loadtxt(file_name, delimiter=self.delimiter_format, usecols=None, dtype=str)\n",
    "        return data\n",
    "    "
   ]
  },
  {
   "cell_type": "markdown",
   "metadata": {},
   "source": [
    "## Canvas for plot"
   ]
  },
  {
   "cell_type": "code",
   "execution_count": 4,
   "metadata": {},
   "outputs": [],
   "source": [
    "class Canvas(FigureCanvas):\n",
    "\n",
    "    def __init__(self, parent=None):\n",
    "        fig = Figure()\n",
    "        self.axes = fig.add_subplot(111)\n",
    "\n",
    "        self.compute_initial_figure()\n",
    "\n",
    "        FigureCanvas.__init__(self, fig)\n",
    "        self.setParent(parent)\n",
    "\n",
    "        FigureCanvas.setSizePolicy(self,\n",
    "                                   QSizePolicy.Expanding,\n",
    "                                   QSizePolicy.Expanding)\n",
    "        FigureCanvas.updateGeometry(self)\n",
    "\n",
    "    def compute_initial_figure(self):\n",
    "        pass"
   ]
  },
  {
   "cell_type": "markdown",
   "metadata": {},
   "source": [
    "## Neural Network: rustic graphic"
   ]
  },
  {
   "cell_type": "code",
   "execution_count": 5,
   "metadata": {},
   "outputs": [],
   "source": [
    "class GraphicNeuron():\n",
    "    def __init__(self, x, y):\n",
    "        self.x = x\n",
    "        self.y = y\n",
    "\n",
    "    def draw(self, neuron_radius):\n",
    "        circle = plt.Circle((self.x, self.y), radius=neuron_radius, fill=False)\n",
    "        plt.gca().add_patch(circle)"
   ]
  },
  {
   "cell_type": "code",
   "execution_count": 6,
   "metadata": {},
   "outputs": [],
   "source": [
    "class GraphicLayer():\n",
    "    def __init__(self, network, number_of_neurons, number_of_neurons_in_widest_layer):\n",
    "        self.vertical_distance_between_layers = 6\n",
    "        self.horizontal_distance_between_neurons = 2\n",
    "        self.neuron_radius = 0.5\n",
    "        self.number_of_neurons_in_widest_layer = number_of_neurons_in_widest_layer\n",
    "        self.previous_layer = self.__get_previous_layer(network)\n",
    "        self.y = self.__calculate_layer_y_position()\n",
    "        self.neurons = self.__intialise_neurons(number_of_neurons)\n",
    "\n",
    "    def __intialise_neurons(self, number_of_neurons):\n",
    "        neurons = []\n",
    "        x = self.__calculate_left_margin_so_layer_is_centered(number_of_neurons)\n",
    "        for iteration in range(number_of_neurons):\n",
    "            neuron = GraphicNeuron(x, self.y)\n",
    "            neurons.append(neuron)\n",
    "            x += self.horizontal_distance_between_neurons\n",
    "        return neurons\n",
    "\n",
    "    def __calculate_left_margin_so_layer_is_centered(self, number_of_neurons):\n",
    "        return self.horizontal_distance_between_neurons * (self.number_of_neurons_in_widest_layer - number_of_neurons) / 2\n",
    "\n",
    "    def __calculate_layer_y_position(self):\n",
    "        if self.previous_layer:\n",
    "            return self.previous_layer.y + self.vertical_distance_between_layers\n",
    "        else:\n",
    "            return 0\n",
    "\n",
    "    def __get_previous_layer(self, network):\n",
    "        if len(network.layers) > 0:\n",
    "            return network.layers[-1]\n",
    "        else:\n",
    "            return None\n",
    "\n",
    "    def __line_between_two_neurons(self, neuron1, neuron2):\n",
    "        angle = atan((neuron2.x - neuron1.x) / float(neuron2.y - neuron1.y))\n",
    "        x_adjustment = self.neuron_radius * sin(angle)\n",
    "        y_adjustment = self.neuron_radius * cos(angle)\n",
    "        line = plt.Line2D((neuron1.x - x_adjustment, neuron2.x + x_adjustment), (neuron1.y - y_adjustment, neuron2.y + y_adjustment))\n",
    "        plt.gca().add_line(line)\n",
    "\n",
    "    def draw(self, layerType=0):\n",
    "        for neuron in self.neurons:\n",
    "            neuron.draw( self.neuron_radius )\n",
    "            if self.previous_layer:\n",
    "                for previous_layer_neuron in self.previous_layer.neurons:\n",
    "                    self.__line_between_two_neurons(neuron, previous_layer_neuron)\n",
    "        # write Text\n",
    "        x_text = self.number_of_neurons_in_widest_layer * self.horizontal_distance_between_neurons\n",
    "        if layerType == 0:\n",
    "            plt.text(x_text, self.y, 'Capa de Entrada', fontsize = 12)\n",
    "        elif layerType == -1:\n",
    "            plt.text(x_text, self.y, 'Capa de Salida ', fontsize = 12)\n",
    "        else:\n",
    "            plt.text(x_text, self.y, 'Capa Oculta '+str(layerType), fontsize = 12)"
   ]
  },
  {
   "cell_type": "code",
   "execution_count": 7,
   "metadata": {},
   "outputs": [],
   "source": [
    "class GraphicNeuralNetwork():\n",
    "    def __init__(self, number_of_neurons_in_widest_layer):\n",
    "        self.number_of_neurons_in_widest_layer = number_of_neurons_in_widest_layer\n",
    "        self.layers = []\n",
    "        self.layertype = 0\n",
    "\n",
    "    def add_layer(self, number_of_neurons ):\n",
    "        layer = GraphicLayer(self, number_of_neurons, self.number_of_neurons_in_widest_layer)\n",
    "        self.layers.append(layer)\n",
    "\n",
    "    def draw(self):\n",
    "        plt.figure()\n",
    "        for i in range( len(self.layers) ):\n",
    "            layer = self.layers[i]\n",
    "            if i == len(self.layers)-1:\n",
    "                i = -1\n",
    "            layer.draw( i )\n",
    "        plt.axis('scaled')\n",
    "        plt.axis('off')\n",
    "        plt.show()"
   ]
  },
  {
   "cell_type": "code",
   "execution_count": 8,
   "metadata": {},
   "outputs": [],
   "source": [
    "class DrawNN(Canvas):\n",
    "    def __init__( self, neural_network, parent ):\n",
    "        self.neural_network = neural_network\n",
    "        super().__init__(parent)\n",
    "\n",
    "    def compute_initial_figure( self ):\n",
    "        widest_layer = max( self.neural_network )\n",
    "        network = GraphicNeuralNetwork( widest_layer )\n",
    "        for l in self.neural_network:\n",
    "            network.add_layer(l)\n",
    "        network.draw()"
   ]
  },
  {
   "cell_type": "markdown",
   "metadata": {},
   "source": [
    "## Data Structure: neural layer"
   ]
  },
  {
   "cell_type": "code",
   "execution_count": 9,
   "metadata": {
    "jupyter": {
     "source_hidden": true
    }
   },
   "outputs": [],
   "source": [
    "# Neural layer builder\n",
    "\n",
    "class NeuralLayer():\n",
    "    # The class is initialized receiving the parameters:\n",
    "    # n_conn: connections number, neurons of layer before\n",
    "    # n_neur: neurons number\n",
    "    # act_f: activation function\n",
    "    def __init__ (self, n_connection, n_neuron, activation_function):\n",
    "        \n",
    "        self.activation_function = activation_function\n",
    "        self.W = np.random.rand(n_connection, n_neuron) * 2 - 1 \n",
    "        self.b = np.random.rand(1, n_neuron) * 2 - 1 "
   ]
  },
  {
   "cell_type": "code",
   "execution_count": null,
   "metadata": {},
   "outputs": [],
   "source": []
  }
 ],
 "metadata": {
  "kernelspec": {
   "display_name": "Python 3",
   "language": "python",
   "name": "python3"
  },
  "language_info": {
   "codemirror_mode": {
    "name": "ipython",
    "version": 3
   },
   "file_extension": ".py",
   "mimetype": "text/x-python",
   "name": "python",
   "nbconvert_exporter": "python",
   "pygments_lexer": "ipython3",
   "version": "3.8.6"
  }
 },
 "nbformat": 4,
 "nbformat_minor": 4
}
